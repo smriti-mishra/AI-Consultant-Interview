{
  "cells": [
    {
      "cell_type": "code",
      "execution_count": null,
      "id": "108d3177",
      "metadata": {
        "id": "108d3177"
      },
      "outputs": [],
      "source": [
        "# Importing all the required libraries used during model building and prediction.\n",
        "import pandas as pd\n",
        "import numpy as np\n",
        "from sklearn.model_selection import train_test_split\n",
        "from sklearn import metrics\n",
        "from sklearn.linear_model import LinearRegression\n",
        "import matplotlib.pyplot as plt\n",
        "import seaborn as sns\n",
        "%matplotlib inline\n",
        "import random"
      ]
    },
    {
      "cell_type": "code",
      "execution_count": null,
      "id": "44b22075",
      "metadata": {
        "id": "44b22075",
        "outputId": "8d134825-bbec-4a49-e447-4a94ec4fcd53"
      },
      "outputs": [
        {
          "data": {
            "text/html": [
              "<div>\n",
              "<style scoped>\n",
              "    .dataframe tbody tr th:only-of-type {\n",
              "        vertical-align: middle;\n",
              "    }\n",
              "\n",
              "    .dataframe tbody tr th {\n",
              "        vertical-align: top;\n",
              "    }\n",
              "\n",
              "    .dataframe thead th {\n",
              "        text-align: right;\n",
              "    }\n",
              "</style>\n",
              "<table border=\"1\" class=\"dataframe\">\n",
              "  <thead>\n",
              "    <tr style=\"text-align: right;\">\n",
              "      <th></th>\n",
              "      <th>eta</th>\n",
              "      <th>ata</th>\n",
              "      <th>atd</th>\n",
              "      <th>vesseldwt</th>\n",
              "      <th>vesseltype</th>\n",
              "      <th>discharge1</th>\n",
              "      <th>load1</th>\n",
              "      <th>discharge2</th>\n",
              "      <th>load2</th>\n",
              "      <th>discharge3</th>\n",
              "      <th>...</th>\n",
              "      <th>load4</th>\n",
              "      <th>stevedorenames</th>\n",
              "      <th>hasnohamis</th>\n",
              "      <th>earliesteta</th>\n",
              "      <th>latesteta</th>\n",
              "      <th>traveltype</th>\n",
              "      <th>previousportid</th>\n",
              "      <th>nextportid</th>\n",
              "      <th>isremarkable</th>\n",
              "      <th>vesselid</th>\n",
              "    </tr>\n",
              "  </thead>\n",
              "  <tbody>\n",
              "    <tr>\n",
              "      <th>0</th>\n",
              "      <td>2017-09-19 00:00:00+00</td>\n",
              "      <td>2017-09-19 00:00:00+00</td>\n",
              "      <td>2017-09-22 00:00:00+00</td>\n",
              "      <td>109290.0</td>\n",
              "      <td>5</td>\n",
              "      <td>0</td>\n",
              "      <td>0</td>\n",
              "      <td>0</td>\n",
              "      <td>0</td>\n",
              "      <td>90173</td>\n",
              "      <td>...</td>\n",
              "      <td>0</td>\n",
              "      <td>Stevedore_104</td>\n",
              "      <td>NaN</td>\n",
              "      <td>2017-09-19 00:00:00+00</td>\n",
              "      <td>2017-09-19 00:00:00+00</td>\n",
              "      <td>ARRIVAL</td>\n",
              "      <td>981</td>\n",
              "      <td>731</td>\n",
              "      <td>f</td>\n",
              "      <td>2242</td>\n",
              "    </tr>\n",
              "    <tr>\n",
              "      <th>1</th>\n",
              "      <td>2017-10-02 00:00:00+00</td>\n",
              "      <td>2017-10-02 00:00:00+00</td>\n",
              "      <td>2017-10-03 00:00:00+00</td>\n",
              "      <td>67170.0</td>\n",
              "      <td>3</td>\n",
              "      <td>0</td>\n",
              "      <td>0</td>\n",
              "      <td>0</td>\n",
              "      <td>0</td>\n",
              "      <td>0</td>\n",
              "      <td>...</td>\n",
              "      <td>0</td>\n",
              "      <td>Stevedore_109</td>\n",
              "      <td>NaN</td>\n",
              "      <td>2017-10-02 00:00:00+00</td>\n",
              "      <td>2017-10-02 00:00:00+00</td>\n",
              "      <td>ARRIVAL</td>\n",
              "      <td>19</td>\n",
              "      <td>15</td>\n",
              "      <td>f</td>\n",
              "      <td>5462</td>\n",
              "    </tr>\n",
              "    <tr>\n",
              "      <th>2</th>\n",
              "      <td>2017-09-30 00:00:00+00</td>\n",
              "      <td>2017-09-30 00:00:00+00</td>\n",
              "      <td>2017-10-01 00:00:00+00</td>\n",
              "      <td>67737.0</td>\n",
              "      <td>3</td>\n",
              "      <td>0</td>\n",
              "      <td>0</td>\n",
              "      <td>0</td>\n",
              "      <td>0</td>\n",
              "      <td>0</td>\n",
              "      <td>...</td>\n",
              "      <td>0</td>\n",
              "      <td>Stevedore_57</td>\n",
              "      <td>NaN</td>\n",
              "      <td>2017-09-30 00:00:00+00</td>\n",
              "      <td>2017-09-30 00:00:00+00</td>\n",
              "      <td>ARRIVAL</td>\n",
              "      <td>19</td>\n",
              "      <td>19</td>\n",
              "      <td>f</td>\n",
              "      <td>5251</td>\n",
              "    </tr>\n",
              "    <tr>\n",
              "      <th>3</th>\n",
              "      <td>2017-10-02 00:00:00+00</td>\n",
              "      <td>2017-10-02 00:00:00+00</td>\n",
              "      <td>2017-10-03 00:00:00+00</td>\n",
              "      <td>43600.0</td>\n",
              "      <td>3</td>\n",
              "      <td>0</td>\n",
              "      <td>0</td>\n",
              "      <td>0</td>\n",
              "      <td>0</td>\n",
              "      <td>0</td>\n",
              "      <td>...</td>\n",
              "      <td>0</td>\n",
              "      <td>Stevedore_57</td>\n",
              "      <td>NaN</td>\n",
              "      <td>2017-10-02 00:00:00+00</td>\n",
              "      <td>2017-10-02 00:00:00+00</td>\n",
              "      <td>ARRIVAL</td>\n",
              "      <td>15</td>\n",
              "      <td>18</td>\n",
              "      <td>f</td>\n",
              "      <td>5268</td>\n",
              "    </tr>\n",
              "    <tr>\n",
              "      <th>4</th>\n",
              "      <td>2017-10-02 00:00:00+00</td>\n",
              "      <td>2017-10-02 00:00:00+00</td>\n",
              "      <td>2017-10-02 00:00:00+00</td>\n",
              "      <td>9231.0</td>\n",
              "      <td>3</td>\n",
              "      <td>0</td>\n",
              "      <td>0</td>\n",
              "      <td>0</td>\n",
              "      <td>0</td>\n",
              "      <td>0</td>\n",
              "      <td>...</td>\n",
              "      <td>0</td>\n",
              "      <td>Stevedore_98</td>\n",
              "      <td>NaN</td>\n",
              "      <td>2017-10-02 00:00:00+00</td>\n",
              "      <td>2017-10-02 00:00:00+00</td>\n",
              "      <td>ARRIVAL</td>\n",
              "      <td>74</td>\n",
              "      <td>27</td>\n",
              "      <td>f</td>\n",
              "      <td>5504</td>\n",
              "    </tr>\n",
              "  </tbody>\n",
              "</table>\n",
              "<p>5 rows × 22 columns</p>\n",
              "</div>"
            ],
            "text/plain": [
              "                      eta                     ata                     atd  \\\n",
              "0  2017-09-19 00:00:00+00  2017-09-19 00:00:00+00  2017-09-22 00:00:00+00   \n",
              "1  2017-10-02 00:00:00+00  2017-10-02 00:00:00+00  2017-10-03 00:00:00+00   \n",
              "2  2017-09-30 00:00:00+00  2017-09-30 00:00:00+00  2017-10-01 00:00:00+00   \n",
              "3  2017-10-02 00:00:00+00  2017-10-02 00:00:00+00  2017-10-03 00:00:00+00   \n",
              "4  2017-10-02 00:00:00+00  2017-10-02 00:00:00+00  2017-10-02 00:00:00+00   \n",
              "\n",
              "   vesseldwt  vesseltype  discharge1  load1  discharge2  load2  discharge3  \\\n",
              "0   109290.0           5           0      0           0      0       90173   \n",
              "1    67170.0           3           0      0           0      0           0   \n",
              "2    67737.0           3           0      0           0      0           0   \n",
              "3    43600.0           3           0      0           0      0           0   \n",
              "4     9231.0           3           0      0           0      0           0   \n",
              "\n",
              "   ...  load4  stevedorenames  hasnohamis             earliesteta  \\\n",
              "0  ...      0   Stevedore_104         NaN  2017-09-19 00:00:00+00   \n",
              "1  ...      0   Stevedore_109         NaN  2017-10-02 00:00:00+00   \n",
              "2  ...      0    Stevedore_57         NaN  2017-09-30 00:00:00+00   \n",
              "3  ...      0    Stevedore_57         NaN  2017-10-02 00:00:00+00   \n",
              "4  ...      0    Stevedore_98         NaN  2017-10-02 00:00:00+00   \n",
              "\n",
              "                latesteta traveltype previousportid nextportid  isremarkable  \\\n",
              "0  2017-09-19 00:00:00+00    ARRIVAL            981        731             f   \n",
              "1  2017-10-02 00:00:00+00    ARRIVAL             19         15             f   \n",
              "2  2017-09-30 00:00:00+00    ARRIVAL             19         19             f   \n",
              "3  2017-10-02 00:00:00+00    ARRIVAL             15         18             f   \n",
              "4  2017-10-02 00:00:00+00    ARRIVAL             74         27             f   \n",
              "\n",
              "   vesselid  \n",
              "0      2242  \n",
              "1      5462  \n",
              "2      5251  \n",
              "3      5268  \n",
              "4      5504  \n",
              "\n",
              "[5 rows x 22 columns]"
            ]
          },
          "execution_count": 2,
          "metadata": {},
          "output_type": "execute_result"
        }
      ],
      "source": [
        "# Print head of the data to see how exactly the data looks like.\n",
        "data = pd.read_excel(r'VesselData.xlsx')\n",
        "data.head()"
      ]
    },
    {
      "cell_type": "code",
      "execution_count": null,
      "id": "bcb45651",
      "metadata": {
        "id": "bcb45651",
        "outputId": "57ec1185-b166-48fc-a1d8-0b0a4f9e4fe9"
      },
      "outputs": [
        {
          "data": {
            "text/plain": [
              "(8208, 22)"
            ]
          },
          "execution_count": 3,
          "metadata": {},
          "output_type": "execute_result"
        }
      ],
      "source": [
        "# Checking dimensions of data that are number of rows and number of columns\n",
        "data.shape"
      ]
    },
    {
      "cell_type": "code",
      "execution_count": null,
      "id": "edebcae8",
      "metadata": {
        "id": "edebcae8",
        "outputId": "7266dce3-014a-421a-f745-e786dc1e8cb2"
      },
      "outputs": [
        {
          "data": {
            "text/plain": [
              "Index(['eta', 'ata', 'atd', 'vesseldwt', 'vesseltype', 'discharge1', 'load1',\n",
              "       'discharge2', 'load2', 'discharge3', 'load3', 'discharge4', 'load4',\n",
              "       'stevedorenames', 'hasnohamis', 'earliesteta', 'latesteta',\n",
              "       'traveltype', 'previousportid', 'nextportid', 'isremarkable',\n",
              "       'vesselid'],\n",
              "      dtype='object')"
            ]
          },
          "execution_count": 4,
          "metadata": {},
          "output_type": "execute_result"
        }
      ],
      "source": [
        "# Checking column names\n",
        "data.columns"
      ]
    },
    {
      "cell_type": "code",
      "execution_count": null,
      "id": "55c3d2ad",
      "metadata": {
        "id": "55c3d2ad",
        "outputId": "9ee0976a-553e-4fc1-a87c-66ae04212254"
      },
      "outputs": [
        {
          "data": {
            "text/plain": [
              "eta                  0\n",
              "ata                  0\n",
              "atd                  0\n",
              "vesseldwt            2\n",
              "vesseltype           0\n",
              "discharge1           0\n",
              "load1                0\n",
              "discharge2           0\n",
              "load2                0\n",
              "discharge3           0\n",
              "load3                0\n",
              "discharge4           0\n",
              "load4                0\n",
              "stevedorenames       2\n",
              "hasnohamis        8208\n",
              "earliesteta          0\n",
              "latesteta            0\n",
              "traveltype           0\n",
              "previousportid       0\n",
              "nextportid           0\n",
              "isremarkable         0\n",
              "vesselid             0\n",
              "dtype: int64"
            ]
          },
          "execution_count": 5,
          "metadata": {},
          "output_type": "execute_result"
        }
      ],
      "source": [
        "# Check if there are any null values in the dataset. We can see that, none of the column has null values.\n",
        "data.isna().sum()"
      ]
    },
    {
      "cell_type": "code",
      "execution_count": null,
      "id": "756879fe",
      "metadata": {
        "id": "756879fe",
        "outputId": "08b0779b-baab-4f3e-cb90-4750c7299d60"
      },
      "outputs": [
        {
          "data": {
            "image/png": "[encoded data removed]",
            "text/plain": [
              "<Figure size 432x288 with 1 Axes>"
            ]
          },
          "metadata": {
            "needs_background": "light"
          },
          "output_type": "display_data"
        }
      ],
      "source": [
        "# See distribution of target variable. \n",
        "plt.hist(data['vesseldwt'])\n",
        "plt.show() "
      ]
    },
    {
      "cell_type": "code",
      "execution_count": null,
      "id": "dbe1d47d",
      "metadata": {
        "id": "dbe1d47d"
      },
      "outputs": [],
      "source": [
        "# Remove unnecessary column and keep only column of interest.\n",
        "data = data[['vesseldwt', 'discharge1', 'discharge2', 'discharge3', 'discharge4', 'load1', 'load2', 'load3', 'load4', 'vesseltype']]"
      ]
    },
    {
      "cell_type": "code",
      "execution_count": null,
      "id": "220d8b48",
      "metadata": {
        "id": "220d8b48",
        "outputId": "43741823-99b9-430b-bc1b-8d5f4fa37d99"
      },
      "outputs": [
        {
          "data": {
            "text/html": [
              "<div>\n",
              "<style scoped>\n",
              "    .dataframe tbody tr th:only-of-type {\n",
              "        vertical-align: middle;\n",
              "    }\n",
              "\n",
              "    .dataframe tbody tr th {\n",
              "        vertical-align: top;\n",
              "    }\n",
              "\n",
              "    .dataframe thead th {\n",
              "        text-align: right;\n",
              "    }\n",
              "</style>\n",
              "<table border=\"1\" class=\"dataframe\">\n",
              "  <thead>\n",
              "    <tr style=\"text-align: right;\">\n",
              "      <th></th>\n",
              "      <th>vesseldwt</th>\n",
              "      <th>discharge1</th>\n",
              "      <th>discharge2</th>\n",
              "      <th>discharge3</th>\n",
              "      <th>discharge4</th>\n",
              "      <th>load1</th>\n",
              "      <th>load2</th>\n",
              "      <th>load3</th>\n",
              "      <th>load4</th>\n",
              "      <th>vesseltype</th>\n",
              "    </tr>\n",
              "  </thead>\n",
              "  <tbody>\n",
              "    <tr>\n",
              "      <th>0</th>\n",
              "      <td>109290.0</td>\n",
              "      <td>0</td>\n",
              "      <td>0</td>\n",
              "      <td>90173</td>\n",
              "      <td>0</td>\n",
              "      <td>0</td>\n",
              "      <td>0</td>\n",
              "      <td>0</td>\n",
              "      <td>0</td>\n",
              "      <td>5</td>\n",
              "    </tr>\n",
              "    <tr>\n",
              "      <th>1</th>\n",
              "      <td>67170.0</td>\n",
              "      <td>0</td>\n",
              "      <td>0</td>\n",
              "      <td>0</td>\n",
              "      <td>0</td>\n",
              "      <td>0</td>\n",
              "      <td>0</td>\n",
              "      <td>0</td>\n",
              "      <td>0</td>\n",
              "      <td>3</td>\n",
              "    </tr>\n",
              "    <tr>\n",
              "      <th>2</th>\n",
              "      <td>67737.0</td>\n",
              "      <td>0</td>\n",
              "      <td>0</td>\n",
              "      <td>0</td>\n",
              "      <td>0</td>\n",
              "      <td>0</td>\n",
              "      <td>0</td>\n",
              "      <td>0</td>\n",
              "      <td>0</td>\n",
              "      <td>3</td>\n",
              "    </tr>\n",
              "    <tr>\n",
              "      <th>3</th>\n",
              "      <td>43600.0</td>\n",
              "      <td>0</td>\n",
              "      <td>0</td>\n",
              "      <td>0</td>\n",
              "      <td>0</td>\n",
              "      <td>0</td>\n",
              "      <td>0</td>\n",
              "      <td>0</td>\n",
              "      <td>0</td>\n",
              "      <td>3</td>\n",
              "    </tr>\n",
              "    <tr>\n",
              "      <th>4</th>\n",
              "      <td>9231.0</td>\n",
              "      <td>0</td>\n",
              "      <td>0</td>\n",
              "      <td>0</td>\n",
              "      <td>0</td>\n",
              "      <td>0</td>\n",
              "      <td>0</td>\n",
              "      <td>0</td>\n",
              "      <td>0</td>\n",
              "      <td>3</td>\n",
              "    </tr>\n",
              "  </tbody>\n",
              "</table>\n",
              "</div>"
            ],
            "text/plain": [
              "   vesseldwt  discharge1  discharge2  discharge3  discharge4  load1  load2  \\\n",
              "0   109290.0           0           0       90173           0      0      0   \n",
              "1    67170.0           0           0           0           0      0      0   \n",
              "2    67737.0           0           0           0           0      0      0   \n",
              "3    43600.0           0           0           0           0      0      0   \n",
              "4     9231.0           0           0           0           0      0      0   \n",
              "\n",
              "   load3  load4  vesseltype  \n",
              "0      0      0           5  \n",
              "1      0      0           3  \n",
              "2      0      0           3  \n",
              "3      0      0           3  \n",
              "4      0      0           3  "
            ]
          },
          "execution_count": 8,
          "metadata": {},
          "output_type": "execute_result"
        }
      ],
      "source": [
        "data.head()"
      ]
    },
    {
      "cell_type": "code",
      "execution_count": null,
      "id": "4993e60b",
      "metadata": {
        "id": "4993e60b",
        "outputId": "b3f35cfc-cd11-4d0e-8064-e5b1adf5c306"
      },
      "outputs": [
        {
          "data": {
            "text/plain": [
              "vesseldwt     0\n",
              "discharge1    0\n",
              "discharge2    0\n",
              "discharge3    0\n",
              "discharge4    0\n",
              "load1         0\n",
              "load2         0\n",
              "load3         0\n",
              "load4         0\n",
              "vesseltype    0\n",
              "dtype: int64"
            ]
          },
          "execution_count": 17,
          "metadata": {},
          "output_type": "execute_result"
        }
      ],
      "source": [
        "# Drop null values from the datafreame.\n",
        "data = data.dropna()\n",
        "data.isna().sum()"
      ]
    },
    {
      "cell_type": "code",
      "execution_count": null,
      "id": "9c6a2045",
      "metadata": {
        "id": "9c6a2045"
      },
      "outputs": [],
      "source": [
        "# Separating the target column and features.\n",
        "X = data.drop(['vesseldwt'], axis = 1)\n",
        "y = data['vesseldwt']"
      ]
    },
    {
      "cell_type": "code",
      "execution_count": null,
      "id": "637037da",
      "metadata": {
        "id": "637037da"
      },
      "outputs": [],
      "source": [
        "# SPlit the dataset into training and testing sets, with a ratio of 70% and 30% respectively.\n",
        "X_train, X_test, y_train, y_test = train_test_split(X, y, test_size=0.3)"
      ]
    },
    {
      "cell_type": "code",
      "execution_count": null,
      "id": "5dcee341",
      "metadata": {
        "id": "5dcee341",
        "outputId": "88f84475-ec81-4fba-f359-644c1a63bb9a"
      },
      "outputs": [
        {
          "data": {
            "text/plain": [
              "LinearRegression()"
            ]
          },
          "execution_count": 24,
          "metadata": {},
          "output_type": "execute_result"
        }
      ],
      "source": [
        "random.seed(124)\n",
        "#Create Linear Regression Object and fit the model\n",
        "lm = LinearRegression()\n",
        "lm.fit(X_train,y_train)\n",
        "lm"
      ]
    },
    {
      "cell_type": "code",
      "execution_count": null,
      "id": "857e6f4d",
      "metadata": {
        "id": "857e6f4d",
        "outputId": "8e792e3e-b158-4224-e8c5-d06a99897921"
      },
      "outputs": [
        {
          "name": "stdout",
          "output_type": "stream",
          "text": [
            "62109.20830606992\n",
            "[ 7.67144821e-01  8.35702439e-01  1.03228836e+00  9.44385951e-01\n",
            " -7.76970955e-03 -3.16350722e-01 -3.56367978e-01  4.31084601e-01\n",
            " -9.35031573e+03]\n"
          ]
        }
      ],
      "source": [
        "#View coeff of Linear Regression object \n",
        "print(lm.intercept_)\n",
        "print(lm.coef_)"
      ]
    },
    {
      "cell_type": "code",
      "execution_count": null,
      "id": "afe0b764",
      "metadata": {
        "id": "afe0b764",
        "outputId": "cc228ff9-9e6b-4d19-d550-40a96179978d"
      },
      "outputs": [
        {
          "name": "stdout",
          "output_type": "stream",
          "text": [
            "First five predictions: [30379.03257729 34058.26110574 34058.26110574 43408.57683918\n",
            " 34058.26110574]\n"
          ]
        }
      ],
      "source": [
        "#predict vesseldwt using testing data\n",
        "yhat = lm.predict(X_test)\n",
        "\n",
        "#View first five predictions -\n",
        "print('First five predictions:' , yhat[0:5])"
      ]
    },
    {
      "cell_type": "code",
      "execution_count": null,
      "id": "648606ad",
      "metadata": {
        "id": "648606ad",
        "outputId": "02b0d363-bd6f-4d00-a0e3-bdda3f8944eb"
      },
      "outputs": [
        {
          "name": "stdout",
          "output_type": "stream",
          "text": [
            "Mean Squared Error of our prediction model 1639392172.033776\n"
          ]
        }
      ],
      "source": [
        "#print MSE - which is mean squared error\n",
        "from sklearn.metrics import mean_squared_error\n",
        "print('Mean Squared Error of our prediction model', mean_squared_error(y_test, yhat))"
      ]
    },
    {
      "cell_type": "code",
      "execution_count": null,
      "id": "cc6a4a2c",
      "metadata": {
        "id": "cc6a4a2c",
        "outputId": "c16a810e-94e7-4016-c53c-ff4dd067e38d"
      },
      "outputs": [
        {
          "name": "stdout",
          "output_type": "stream",
          "text": [
            "5-Cross Validation accuracy 0.3421307113522599 0.06307344003436752\n"
          ]
        }
      ],
      "source": [
        "# Accuracy of the baseline model using 5-cross validation method -\n",
        "from sklearn.model_selection import cross_val_score\n",
        "score = cross_val_score(lm, X_train, y_train, cv = 5)\n",
        "print('5-Cross Validation accuracy', (np.mean(score)), (np.std(score)))"
      ]
    },
    {
      "cell_type": "code",
      "execution_count": null,
      "id": "0d561d64",
      "metadata": {
        "id": "0d561d64"
      },
      "outputs": [],
      "source": [
        ""
      ]
    }
  ],
  "metadata": {
    "kernelspec": {
      "display_name": "Python 3 (ipykernel)",
      "language": "python",
      "name": "python3"
    },
    "language_info": {
      "codemirror_mode": {
        "name": "ipython",
        "version": 3
      },
      "file_extension": ".py",
      "mimetype": "text/x-python",
      "name": "python",
      "nbconvert_exporter": "python",
      "pygments_lexer": "ipython3",
      "version": "3.9.7"
    },
    "colab": {
      "name": "Part2.ipynb",
      "provenance": []
    }
  },
  "nbformat": 4,
  "nbformat_minor": 5
}